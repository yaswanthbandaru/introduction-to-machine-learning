{
  "nbformat": 4,
  "nbformat_minor": 0,
  "metadata": {
    "colab": {
      "name": "project1_1.ipynb",
      "provenance": [],
      "collapsed_sections": []
    },
    "kernelspec": {
      "name": "python3",
      "display_name": "Python 3"
    }
  },
  "cells": [
    {
      "cell_type": "code",
      "metadata": {
        "id": "jVEYYxTEBdzN",
        "colab_type": "code",
        "colab": {}
      },
      "source": [
        "import sklearn\n",
        "from sklearn.datasets import load_boston\n",
        "from sklearn.model_selection import train_test_split\n",
        "from sklearn.linear_model import LinearRegression\n",
        "from sklearn.preprocessing import StandardScaler\n",
        "import pandas as pd\n",
        "import seaborn as sns\n",
        "import matplotlib.pyplot as plt"
      ],
      "execution_count": 0,
      "outputs": []
    },
    {
      "cell_type": "code",
      "metadata": {
        "id": "73fhA7D1B6vv",
        "colab_type": "code",
        "colab": {}
      },
      "source": [
        "boston = load_boston()\n",
        "data = boston.data\n",
        "data = pd.DataFrame(data = data, columns = boston.feature_names)"
      ],
      "execution_count": 0,
      "outputs": []
    },
    {
      "cell_type": "code",
      "metadata": {
        "id": "TceBbdI6CSTZ",
        "colab_type": "code",
        "colab": {}
      },
      "source": [
        "data['price'] = boston.target"
      ],
      "execution_count": 0,
      "outputs": []
    },
    {
      "cell_type": "code",
      "metadata": {
        "id": "V6FI4lqmGGlC",
        "colab_type": "code",
        "colab": {
          "base_uri": "https://localhost:8080/",
          "height": 278
        },
        "outputId": "e3e4f89b-cb6d-40d7-aaa2-21183413d3a8"
      },
      "source": [
        "corr_mat = data.corr()\n",
        "corr_mat['price'].sort_values()"
      ],
      "execution_count": 52,
      "outputs": [
        {
          "output_type": "execute_result",
          "data": {
            "text/plain": [
              "LSTAT     -0.737663\n",
              "PTRATIO   -0.507787\n",
              "INDUS     -0.483725\n",
              "TAX       -0.468536\n",
              "NOX       -0.427321\n",
              "CRIM      -0.388305\n",
              "RAD       -0.381626\n",
              "AGE       -0.376955\n",
              "CHAS       0.175260\n",
              "DIS        0.249929\n",
              "B          0.333461\n",
              "ZN         0.360445\n",
              "RM         0.695360\n",
              "price      1.000000\n",
              "Name: price, dtype: float64"
            ]
          },
          "metadata": {
            "tags": []
          },
          "execution_count": 52
        }
      ]
    },
    {
      "cell_type": "code",
      "metadata": {
        "id": "CQ58DZWkCXAw",
        "colab_type": "code",
        "colab": {}
      },
      "source": [
        "#removing the target values from x\n",
        "x = data.drop('price', axis = 1)\n",
        "#removing the feature which is less correlated with price\n",
        "x = data.drop('CHAS', axis = 1)\n",
        "y = data['price']"
      ],
      "execution_count": 0,
      "outputs": []
    },
    {
      "cell_type": "code",
      "metadata": {
        "id": "L5_PaKrWCjX_",
        "colab_type": "code",
        "colab": {}
      },
      "source": [
        "scaler = StandardScaler()"
      ],
      "execution_count": 0,
      "outputs": []
    },
    {
      "cell_type": "code",
      "metadata": {
        "id": "PIj8GtH-CsqE",
        "colab_type": "code",
        "colab": {}
      },
      "source": [
        "x_train, x_test, y_train, y_test = train_test_split(x, y, random_state = 42, test_size = 0.2)"
      ],
      "execution_count": 0,
      "outputs": []
    },
    {
      "cell_type": "code",
      "metadata": {
        "id": "ruLMdVOdEOwd",
        "colab_type": "code",
        "colab": {}
      },
      "source": [
        "x_train_scaled = scaler.fit_transform(x_train)\n",
        "x_test_scaled = scaler.transform(x_test)"
      ],
      "execution_count": 0,
      "outputs": []
    },
    {
      "cell_type": "code",
      "metadata": {
        "id": "zOCtPricC8Yw",
        "colab_type": "code",
        "colab": {
          "base_uri": "https://localhost:8080/",
          "height": 34
        },
        "outputId": "fc7cdf0b-e82e-4eb2-f2f2-3ffaf4678196"
      },
      "source": [
        "model = LinearRegression()\n",
        "model.fit(x_train_scaled, y_train)"
      ],
      "execution_count": 57,
      "outputs": [
        {
          "output_type": "execute_result",
          "data": {
            "text/plain": [
              "LinearRegression(copy_X=True, fit_intercept=True, n_jobs=None, normalize=False)"
            ]
          },
          "metadata": {
            "tags": []
          },
          "execution_count": 57
        }
      ]
    },
    {
      "cell_type": "code",
      "metadata": {
        "id": "e2FPM-KfDDqK",
        "colab_type": "code",
        "colab": {}
      },
      "source": [
        "y_predictions = model.predict(x_test_scaled)"
      ],
      "execution_count": 0,
      "outputs": []
    },
    {
      "cell_type": "code",
      "metadata": {
        "id": "jntlwBXnDIAg",
        "colab_type": "code",
        "colab": {
          "base_uri": "https://localhost:8080/",
          "height": 69
        },
        "outputId": "6081dfdf-f887-40d2-a6ad-f398dd16cb00"
      },
      "source": [
        "mae = sklearn.metrics.mean_absolute_error(y_test, y_predictions)\n",
        "print(\"mea \", mae)\n",
        "score = sklearn.metrics.r2_score(y_test, y_predictions)\n",
        "print(\"r2_score \", score)\n",
        "rmse = sklearn.metrics.mean_squared_error(y_test, y_predictions)\n",
        "print(\"rmse \", rmse)"
      ],
      "execution_count": 59,
      "outputs": [
        {
          "output_type": "stream",
          "text": [
            "mea  4.5802142035516265e-15\n",
            "r2_score  1.0\n",
            "rmse  3.2204086366081303e-29\n"
          ],
          "name": "stdout"
        }
      ]
    },
    {
      "cell_type": "code",
      "metadata": {
        "id": "POm47e8lG37G",
        "colab_type": "code",
        "colab": {}
      },
      "source": [
        ""
      ],
      "execution_count": 0,
      "outputs": []
    },
    {
      "cell_type": "code",
      "metadata": {
        "id": "D9nhoFsqDfuX",
        "colab_type": "code",
        "colab": {}
      },
      "source": [
        ""
      ],
      "execution_count": 0,
      "outputs": []
    }
  ]
}